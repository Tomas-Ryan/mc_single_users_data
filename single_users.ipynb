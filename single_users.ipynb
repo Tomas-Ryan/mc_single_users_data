{
 "cells": [
  {
   "cell_type": "code",
   "execution_count": 1,
   "metadata": {},
   "outputs": [
    {
     "name": "stdout",
     "output_type": "stream",
     "text": [
      "Archivo guardado: /Users/tomasryan/projects/MC/single_users/2024-10-04/rheafrawley84@gmail.com.xlsx\n",
      "Archivo guardado: /Users/tomasryan/projects/MC/single_users/2024-10-04/tonyburton23@aol.com.xlsx\n",
      "Archivo guardado: /Users/tomasryan/projects/MC/single_users/2024-10-04/mr.magic34@yahoo.com.xlsx\n",
      "Archivo guardado: /Users/tomasryan/projects/MC/single_users/2024-10-04/debbyg65@icloud.co.xlsx\n",
      "Archivo guardado: /Users/tomasryan/projects/MC/single_users/2024-10-04/91peterbuilt377@gmail.com.xlsx\n",
      "Archivo guardado: /Users/tomasryan/projects/MC/single_users/2024-10-04/alfie66332001@yahoo.com.xlsx\n",
      "Archivo guardado: /Users/tomasryan/projects/MC/single_users/2024-10-04/alwandamattox@gmail.com.xlsx\n",
      "Archivo guardado: /Users/tomasryan/projects/MC/single_users/2024-10-04/anita.laslo@yahoo.com.xlsx\n",
      "Archivo guardado: /Users/tomasryan/projects/MC/single_users/2024-10-04/bcostellos1278@gmail.com.xlsx\n",
      "Archivo guardado: /Users/tomasryan/projects/MC/single_users/2024-10-04/biggramps@gmail.com.xlsx\n",
      "Archivo guardado: /Users/tomasryan/projects/MC/single_users/2024-10-04/brigdob@hotmail.com.xlsx\n",
      "Archivo guardado: /Users/tomasryan/projects/MC/single_users/2024-10-04/cindylarry@comcast.net.xlsx\n",
      "Archivo guardado: /Users/tomasryan/projects/MC/single_users/2024-10-04/clintdegeyter@gmail.com.xlsx\n",
      "Archivo guardado: /Users/tomasryan/projects/MC/single_users/2024-10-04/cohotruman@gmail.com.xlsx\n",
      "Archivo guardado: /Users/tomasryan/projects/MC/single_users/2024-10-04/danielle_lee82@yahoo.com.xlsx\n",
      "Archivo guardado: /Users/tomasryan/projects/MC/single_users/2024-10-04/deniseberthelot84@gmail.com.xlsx\n",
      "Archivo guardado: /Users/tomasryan/projects/MC/single_users/2024-10-04/dhanks6@tampabay.rr.com.xlsx\n",
      "Archivo guardado: /Users/tomasryan/projects/MC/single_users/2024-10-04/dkorcz0428@hotmail.com.xlsx\n",
      "Archivo guardado: /Users/tomasryan/projects/MC/single_users/2024-10-04/ebwalsh65@gmail.com.xlsx\n",
      "Archivo guardado: /Users/tomasryan/projects/MC/single_users/2024-10-04/ejeanieb@gmail.com.xlsx\n",
      "Archivo guardado: /Users/tomasryan/projects/MC/single_users/2024-10-04/georgebindus77@gmail.com.xlsx\n",
      "Archivo guardado: /Users/tomasryan/projects/MC/single_users/2024-10-04/gerry_u@yahoo.com.xlsx\n",
      "Archivo guardado: /Users/tomasryan/projects/MC/single_users/2024-10-04/golfdaddy8861@yahoo.com.xlsx\n",
      "Archivo guardado: /Users/tomasryan/projects/MC/single_users/2024-10-04/gollscott2@gmail.com.xlsx\n",
      "Archivo guardado: /Users/tomasryan/projects/MC/single_users/2024-10-04/guentherdale@gmail.com.xlsx\n",
      "Archivo guardado: /Users/tomasryan/projects/MC/single_users/2024-10-04/jamiegriggs@gra.midco.net.xlsx\n",
      "Archivo guardado: /Users/tomasryan/projects/MC/single_users/2024-10-04/jdoucette54@yahoo.com.xlsx\n",
      "Archivo guardado: /Users/tomasryan/projects/MC/single_users/2024-10-04/jdoucette54@yahoo.com.xlsx\n",
      "Archivo guardado: /Users/tomasryan/projects/MC/single_users/2024-10-04/jon937564@gmail.com.xlsx\n",
      "Archivo guardado: /Users/tomasryan/projects/MC/single_users/2024-10-04/jries.seattle@yahoo.com.xlsx\n",
      "Archivo guardado: /Users/tomasryan/projects/MC/single_users/2024-10-04/kevmac118@yahoo.com.xlsx\n",
      "Archivo guardado: /Users/tomasryan/projects/MC/single_users/2024-10-04/kjsgigi@gmail.com.xlsx\n",
      "Archivo guardado: /Users/tomasryan/projects/MC/single_users/2024-10-04/ksherman1957@gmail.com.xlsx\n",
      "Archivo guardado: /Users/tomasryan/projects/MC/single_users/2024-10-04/lwehner812@gmail.com.xlsx\n",
      "Archivo guardado: /Users/tomasryan/projects/MC/single_users/2024-10-04/mannyelectrical81@gmail.com.xlsx\n",
      "Archivo guardado: /Users/tomasryan/projects/MC/single_users/2024-10-04/montello11@sbcglobal.net.xlsx\n",
      "Archivo guardado: /Users/tomasryan/projects/MC/single_users/2024-10-04/nwbronc@gmail.com.xlsx\n",
      "Archivo guardado: /Users/tomasryan/projects/MC/single_users/2024-10-04/patty240@hotmail.com.xlsx\n",
      "Archivo guardado: /Users/tomasryan/projects/MC/single_users/2024-10-04/rparran1963@yahoo.com.xlsx\n",
      "Archivo guardado: /Users/tomasryan/projects/MC/single_users/2024-10-04/sandratinsley900@gmail.com.xlsx\n",
      "Archivo guardado: /Users/tomasryan/projects/MC/single_users/2024-10-04/shawncox79@yahoo.com.xlsx\n",
      "Archivo guardado: /Users/tomasryan/projects/MC/single_users/2024-10-04/shirleyanderson038@gmail.com.xlsx\n",
      "Archivo guardado: /Users/tomasryan/projects/MC/single_users/2024-10-04/stevennewberry144@gmail.com.xlsx\n",
      "Archivo guardado: /Users/tomasryan/projects/MC/single_users/2024-10-04/stutterbox43@gmail.com.xlsx\n",
      "Archivo guardado: /Users/tomasryan/projects/MC/single_users/2024-10-04/tarpleycentral@yahoo.com.xlsx\n",
      "Archivo guardado: /Users/tomasryan/projects/MC/single_users/2024-10-04/tsomaio@verizon.net.xlsx\n",
      "Archivo guardado: /Users/tomasryan/projects/MC/single_users/2024-10-04/tulltour2001@yahoo.com.xlsx\n",
      "Archivo guardado: /Users/tomasryan/projects/MC/single_users/2024-10-04/vlilly26@gmail.com.xlsx\n",
      "Archivo guardado: /Users/tomasryan/projects/MC/single_users/2024-10-04/yardbrawler@comcast.net.xlsx\n"
     ]
    }
   ],
   "source": [
    "import pandas as pd\n",
    "from openpyxl import load_workbook\n",
    "from openpyxl.drawing.image import Image\n",
    "import shutil\n",
    "import os\n",
    "\n",
    "# Función para copiar el template con imágenes y generar archivos individuales\n",
    "def generar_archivos_individuales(template_path, data_path, output_folder, logo_path):\n",
    "    # Cargar el archivo con los datos de los usuarios\n",
    "    df = pd.read_excel(data_path)\n",
    "    \n",
    "    # Iterar por cada fila del DataFrame\n",
    "    for _, row in df.iterrows():\n",
    "        # Crear una copia del template para cada usuario\n",
    "        email = row['Primary Email Address']  # Ajusta según el nombre exacto de la columna\n",
    "        output_path = f\"{output_folder}/{email}.xlsx\"\n",
    "        shutil.copyfile(template_path, output_path)\n",
    "        \n",
    "        # Cargar la copia del template para modificarla\n",
    "        wb = load_workbook(output_path)\n",
    "        ws = wb.active\n",
    "        \n",
    "        # Insertar los datos del usuario en la fila 4\n",
    "        for col_idx, value in enumerate(row, start=1):\n",
    "            ws.cell(row=4, column=col_idx, value=value)\n",
    "        \n",
    "        # Agregar el logo en la celda A1 (ajusta la posición según corresponda)\n",
    "        img = Image(logo_path)\n",
    "        ws.add_image(img, \"A1\")  # Ajusta la celda donde quieres que aparezca el logo\n",
    "        \n",
    "        # Guardar el archivo modificado\n",
    "        wb.save(output_path)\n",
    "        print(f\"Archivo guardado: {output_path}\")\n",
    "\n",
    "# Rutas de los archivos\n",
    "template_path = \"irm template.xlsx\"\n",
    "data_path = \"/Users/tomasryan/projects/MC/single_users/2024-10-04_users_data.xlsx\"\n",
    "output_folder = \"/Users/tomasryan/projects/MC/single_users/2024-10-04\"\n",
    "logo_path = \"/Users/tomasryan/projects/MC/single_users/mc_logo.png\"  # El archivo de imagen del logo\n",
    "\n",
    "# Llamar a la función para generar los archivos\n",
    "generar_archivos_individuales(template_path, data_path, output_folder, logo_path)\n"
   ]
  }
 ],
 "metadata": {
  "kernelspec": {
   "display_name": "Python 3.12.4 64-bit",
   "language": "python",
   "name": "python3"
  },
  "language_info": {
   "codemirror_mode": {
    "name": "ipython",
    "version": 3
   },
   "file_extension": ".py",
   "mimetype": "text/x-python",
   "name": "python",
   "nbconvert_exporter": "python",
   "pygments_lexer": "ipython3",
   "version": "3.12.4"
  },
  "orig_nbformat": 4,
  "vscode": {
   "interpreter": {
    "hash": "b0fa6594d8f4cbf19f97940f81e996739fb7646882a419484c72d19e05852a7e"
   }
  }
 },
 "nbformat": 4,
 "nbformat_minor": 2
}
